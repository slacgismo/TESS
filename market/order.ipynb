{
 "cells": [
  {
   "cell_type": "markdown",
   "metadata": {},
   "source": [
    "Auction orders may be placed by any device, modified and deleted by the device that created the order, and cleared by the market.\n",
    "\n",
    "The following order states are recognized:\n",
    "\n",
    "| State       | Price_id   | Closed            | Allowed transitions | Meaning                               |\n",
    "| ----------- | --------- | ----------------- | ------------------- | ------------------------------------- | \n",
    "| `NEW`       | `NULL`    | `NULL` or `> now` | `OPEN`, `CLOSED`    | The order is waiting to be cleared    |\n",
    "| `OPEN`      | `!NULL`   | `NULL` or `> now` | `CLOSED`            | The order has cleared (see substate)  |\n",
    "| `CLOSED`    | `!NULL`   | `<= now`          | (terminal)          | The order is closed after clearing    |\n",
    "| `DELETED`   | `NULL`    | `<= now`          | (terminal)          | The order was deleted before clearing |\n",
    "\n",
    "When `OPEN` the `order` status is determined on join with `price` on `price_id`:\n",
    "\n",
    "| Substate   | Bid         | Meaning                |\n",
    "| ---------- | ----------- | ---------------------- |\n",
    "| `ACTIVE`   | `<= price`  | The bid is awarded     |\n",
    "| `INACTIVE` | `> price`   | The bid is not awarded |\n"
   ]
  },
  {
   "cell_type": "code",
   "execution_count": null,
   "metadata": {},
   "outputs": [],
   "source": []
  }
 ],
 "metadata": {
  "kernelspec": {
   "display_name": "Python 3 (ipykernel)",
   "language": "python",
   "name": "python3"
  },
  "language_info": {
   "codemirror_mode": {
    "name": "ipython",
    "version": 3
   },
   "file_extension": ".py",
   "mimetype": "text/x-python",
   "name": "python",
   "nbconvert_exporter": "python",
   "pygments_lexer": "ipython3",
   "version": "3.9.10"
  }
 },
 "nbformat": 4,
 "nbformat_minor": 2
}
