{
 "cells": [
  {
   "cell_type": "code",
   "execution_count": 4,
   "metadata": {},
   "outputs": [
    {
     "name": "stdout",
     "output_type": "stream",
     "text": [
      "1577441100/capacity-00000012-1577412082.231024-4c419dee3e694a7ea193ec26eac164bd\n"
     ]
    }
   ],
   "source": [
    "import market\n",
    "print(market.submit_bid(\"capacity\",12,1,1,0))"
   ]
  },
  {
   "cell_type": "code",
   "execution_count": 5,
   "metadata": {},
   "outputs": [
    {
     "data": {
      "text/plain": [
       "datetime.datetime(2019, 12, 27, 2, 5)"
      ]
     },
     "execution_count": 5,
     "metadata": {},
     "output_type": "execute_result"
    }
   ],
   "source": [
    "market.get_next_clearing_datetime()"
   ]
  },
  {
   "cell_type": "code",
   "execution_count": 7,
   "metadata": {},
   "outputs": [
    {
     "name": "stdout",
     "output_type": "stream",
     "text": [
      "Help on module market:\n",
      "\n",
      "NAME\n",
      "    market - Implements the TESS market operations\n",
      "\n",
      "DESCRIPTION\n",
      "    Concept of Operations\n",
      "    =====================\n",
      "    \n",
      "    There are two types of market mechanisms, \"auction\" and \"orderbook\".\n",
      "    \n",
      "    Auction\n",
      "    -------\n",
      "    \n",
      "    An auction is a periodic market that clear every `config.interval` seconds.  \n",
      "    Bids are submitted at any time and cleared together at once.  The resulting\n",
      "    price determines which bids are awarded.\n",
      "    \n",
      "    Orderbook\n",
      "    ---------\n",
      "    \n",
      "    An orderbook is a continuous market that clears whenever an order can be\n",
      "    immediately filled.  There are two types of orders.\n",
      "    \n",
      "    1. Limit orders are for resources that can run at a reservation price.\n",
      "    \n",
      "    2. Market orders are for resources that will run at any price.\n",
      "\n",
      "FUNCTIONS\n",
      "    clear_market()\n",
      "        Clears the market\n",
      "        Returns:\n",
      "          bool - status of market clearing -- True if price is valid, False if no price found\n",
      "    \n",
      "    get_cost_unit()\n",
      "        Get the units for costs\n",
      "    \n",
      "    get_currency_unit()\n",
      "        Get the units for currency\n",
      "    \n",
      "    get_next_clearing_datetime()\n",
      "        Get the datetime of the next market clearing\n",
      "        Returns:\n",
      "          datetime - date and time when price will be available, None if price is already available\n",
      "    \n",
      "    get_price(order)\n",
      "        Get the market price of a resource\n",
      "        Parameters:\n",
      "          order (string) - order id -- see submit_bid()\n",
      "        Returns:\n",
      "          double - the resource price, or nan if none -- see get_resource_price(resource) for units of prices\n",
      "    \n",
      "    get_price_unit(resource)\n",
      "        Get the units of price for a resource\n",
      "        Parameters:\n",
      "          resource (string) - specifies the resource type, see get_resources()\n",
      "        Returns:\n",
      "          string - the resource price units\n",
      "    \n",
      "    get_resource_unit(resource)\n",
      "        Get the units for a resource\n",
      "        Parameters:\n",
      "          resource (string) - specifies the resource type -- see get_valid_resources()\n",
      "        Returns:\n",
      "          string - the resource price units\n",
      "    \n",
      "    get_time_unit()\n",
      "        Get the units for time\n",
      "    \n",
      "    get_valid_resources()\n",
      "        Get the list of valid resources\n",
      "        Returns:\n",
      "          list - string names of valid resources\n",
      "    \n",
      "    is_valid_resource(resource)\n",
      "    \n",
      "    log_market_action(message)\n",
      "        Log a market action for current mechanism\n",
      "        Parameters:\n",
      "          message (string) - message to write to market log\n",
      "    \n",
      "    open_market()\n",
      "        Get access to the configured market\n",
      "    \n",
      "    submit_bid(resource, device, quantity, price, current, replace=None)\n",
      "        Submit a bid to the market\n",
      "        Parameters:\n",
      "          resource (string) - resource type -- see get_valid_resources()\n",
      "          device (number)   - device id\n",
      "          quantity (double) - the bid quantity, negative is sell ask, positive is buy offer\n",
      "          price (double)    - the bid price, +inf for must trade, -inf for must not trade, 0.0 for take any\n",
      "          current (double)  - the current quantity, zero if none, nan if unknown\n",
      "          replace (integer) - order id to replace or delete (use price=-inf) a previous trade\n",
      "        Returns:\n",
      "          integer - the order id -- see 'replace' parameters\n",
      "\n",
      "FILE\n",
      "    /Users/david/GitHub/TESS/market/market.py\n",
      "\n",
      "\n"
     ]
    }
   ],
   "source": [
    "help('market')"
   ]
  },
  {
   "cell_type": "code",
   "execution_count": null,
   "metadata": {},
   "outputs": [],
   "source": []
  }
 ],
 "metadata": {
  "kernelspec": {
   "display_name": "Python 3 (ipykernel)",
   "language": "python",
   "name": "python3"
  },
  "language_info": {
   "codemirror_mode": {
    "name": "ipython",
    "version": 3
   },
   "file_extension": ".py",
   "mimetype": "text/x-python",
   "name": "python",
   "nbconvert_exporter": "python",
   "pygments_lexer": "ipython3",
   "version": "3.9.10"
  }
 },
 "nbformat": 4,
 "nbformat_minor": 2
}
