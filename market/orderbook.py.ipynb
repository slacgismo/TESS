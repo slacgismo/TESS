{
 "cells": [
  {
   "cell_type": "markdown",
   "id": "dcc6d008",
   "metadata": {},
   "source": [
    "The `orderbook` class implements an orderbook mechanism for TESS."
   ]
  },
  {
   "cell_type": "code",
   "execution_count": 1,
   "id": "980ba062",
   "metadata": {},
   "outputs": [],
   "source": [
    "from orderbook import *"
   ]
  },
  {
   "cell_type": "markdown",
   "id": "9dd7018d",
   "metadata": {},
   "source": [
    "First we create an order book."
   ]
  },
  {
   "cell_type": "code",
   "execution_count": 2,
   "id": "b1597d49",
   "metadata": {},
   "outputs": [],
   "source": [
    "book = Orderbook()"
   ]
  },
  {
   "cell_type": "markdown",
   "id": "599c50eb",
   "metadata": {},
   "source": [
    "We check that zero quantity orders cannot be accepted."
   ]
  },
  {
   "cell_type": "code",
   "execution_count": 3,
   "id": "20ec2fa3",
   "metadata": {},
   "outputs": [
    {
     "name": "stderr",
     "output_type": "stream",
     "text": [
      "ERROR [orderbook.Orderbook]: add_order({'quantity': 0}) market order with zero quantity\n"
     ]
    }
   ],
   "source": [
    "book.add_order(quantity=0)"
   ]
  },
  {
   "cell_type": "markdown",
   "id": "a5312e3e",
   "metadata": {},
   "source": [
    "Now we add some sell orders (quantity > 0). The return value is the dispatch, if any."
   ]
  },
  {
   "cell_type": "code",
   "execution_count": 4,
   "id": "ec5e275e",
   "metadata": {},
   "outputs": [
    {
     "data": {
      "text/plain": [
       "{'quantity': 12.0, 'price': 25.0}"
      ]
     },
     "execution_count": 4,
     "metadata": {},
     "output_type": "execute_result"
    }
   ],
   "source": [
    "book.add_order(quantity=10,price=10)\n",
    "book.add_order(quantity=11,price=20)\n",
    "book.add_order(quantity=12,price=25)"
   ]
  },
  {
   "cell_type": "markdown",
   "id": "7959ee34",
   "metadata": {},
   "source": [
    "Now we add some buy order (quantity < 0)."
   ]
  },
  {
   "cell_type": "code",
   "execution_count": 5,
   "id": "5ef62b46",
   "metadata": {},
   "outputs": [
    {
     "data": {
      "text/plain": [
       "{'quantity': -14.0, 'price': 8.0}"
      ]
     },
     "execution_count": 5,
     "metadata": {},
     "output_type": "execute_result"
    }
   ],
   "source": [
    "book.add_order(quantity=-13,price=5)\n",
    "book.add_order(quantity=-14,price=8)"
   ]
  },
  {
   "cell_type": "markdown",
   "id": "9cc11e5a",
   "metadata": {},
   "source": [
    "We check the price spread."
   ]
  },
  {
   "cell_type": "code",
   "execution_count": 6,
   "id": "e9914725",
   "metadata": {},
   "outputs": [
    {
     "data": {
      "text/plain": [
       "[-5, 10]"
      ]
     },
     "execution_count": 6,
     "metadata": {},
     "output_type": "execute_result"
    }
   ],
   "source": [
    "book.spread()"
   ]
  },
  {
   "cell_type": "markdown",
   "id": "451cbdb2",
   "metadata": {},
   "source": [
    "We plot the orderbook."
   ]
  },
  {
   "cell_type": "code",
   "execution_count": 7,
   "id": "9ede83cb",
   "metadata": {
    "scrolled": false
   },
   "outputs": [
    {
     "data": {
      "image/png": "[encoded data removed]",
      "text/plain": [
       "<Figure size 1120x800 with 1 Axes>"
      ]
     },
     "metadata": {
      "needs_background": "light"
     },
     "output_type": "display_data"
    }
   ],
   "source": [
    "book.plot();"
   ]
  },
  {
   "cell_type": "markdown",
   "id": "bf412be9",
   "metadata": {},
   "source": [
    "Convert the order book to JSON."
   ]
  },
  {
   "cell_type": "code",
   "execution_count": 8,
   "id": "e608e412",
   "metadata": {},
   "outputs": [
    {
     "name": "stdout",
     "output_type": "stream",
     "text": [
      "{\"demand\": {\"5\": 13.0, \"8\": 14.0}, \"supply\": {\"10\": 10.0, \"20\": 11.0, \"25\": 12.0}}\n"
     ]
    }
   ],
   "source": [
    "book.to_json()"
   ]
  },
  {
   "cell_type": "markdown",
   "id": "2fd59978",
   "metadata": {},
   "source": [
    "We create a copy of the orderbook."
   ]
  },
  {
   "cell_type": "code",
   "execution_count": 9,
   "id": "dac7fcd7",
   "metadata": {},
   "outputs": [
    {
     "name": "stdout",
     "output_type": "stream",
     "text": [
      "{\"demand\": {\"5\": 13.0, \"8\": 14.0}, \"supply\": {\"10\": 10.0, \"20\": 11.0, \"25\": 12.0}}\n"
     ]
    }
   ],
   "source": [
    "test = Orderbook(**book.to_dict())\n",
    "test.to_json()"
   ]
  },
  {
   "cell_type": "code",
   "execution_count": null,
   "id": "8d4fac5a",
   "metadata": {},
   "outputs": [],
   "source": []
  },
  {
   "cell_type": "code",
   "execution_count": null,
   "id": "80b062d5",
   "metadata": {},
   "outputs": [],
   "source": []
  }
 ],
 "metadata": {
  "kernelspec": {
   "display_name": "Python 3 (ipykernel)",
   "language": "python",
   "name": "python3"
  },
  "language_info": {
   "codemirror_mode": {
    "name": "ipython",
    "version": 3
   },
   "file_extension": ".py",
   "mimetype": "text/x-python",
   "name": "python",
   "nbconvert_exporter": "python",
   "pygments_lexer": "ipython3",
   "version": "3.9.10"
  }
 },
 "nbformat": 4,
 "nbformat_minor": 5
}
