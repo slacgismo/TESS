{
 "cells": [
  {
   "cell_type": "code",
   "execution_count": 1,
   "id": "e54d885a",
   "metadata": {},
   "outputs": [],
   "source": [
    "import pandas as pd"
   ]
  },
  {
   "cell_type": "code",
   "execution_count": 2,
   "id": "e9641c1b",
   "metadata": {},
   "outputs": [],
   "source": [
    "data = pd.read_csv('data/meter_intervals.csv', index_col=0, parse_dates=True)\n"
   ]
  },
  {
   "cell_type": "code",
   "execution_count": 3,
   "id": "342bff77",
   "metadata": {},
   "outputs": [],
   "source": [
    "hundred_percent = 24000.0"
   ]
  },
  {
   "cell_type": "code",
   "execution_count": 4,
   "id": "37f84e3d",
   "metadata": {
    "scrolled": true
   },
   "outputs": [
    {
     "data": {
      "text/html": [
       "<div>\n",
       "<style scoped>\n",
       "    .dataframe tbody tr th:only-of-type {\n",
       "        vertical-align: middle;\n",
       "    }\n",
       "\n",
       "    .dataframe tbody tr th {\n",
       "        vertical-align: top;\n",
       "    }\n",
       "\n",
       "    .dataframe thead th {\n",
       "        text-align: right;\n",
       "    }\n",
       "</style>\n",
       "<table border=\"1\" class=\"dataframe\">\n",
       "  <thead>\n",
       "    <tr style=\"text-align: right;\">\n",
       "      <th></th>\n",
       "      <th>is_bid</th>\n",
       "      <th>qmtp</th>\n",
       "      <th>p_bid</th>\n",
       "      <th>meter_id</th>\n",
       "      <th>start_time</th>\n",
       "      <th>end_time</th>\n",
       "      <th>mode_dispatch</th>\n",
       "      <th>q_bid</th>\n",
       "      <th>meter_interval_id</th>\n",
       "      <th>mode_market</th>\n",
       "      <th>rate_id</th>\n",
       "      <th>e</th>\n",
       "    </tr>\n",
       "  </thead>\n",
       "  <tbody>\n",
       "    <tr>\n",
       "      <th>0</th>\n",
       "      <td>True</td>\n",
       "      <td>0.0</td>\n",
       "      <td>0.0</td>\n",
       "      <td>2</td>\n",
       "      <td>2021-09-29T22:45:00</td>\n",
       "      <td>2021-09-29T22:50:00</td>\n",
       "      <td>1.0</td>\n",
       "      <td>0.0</td>\n",
       "      <td>1722</td>\n",
       "      <td>1.0</td>\n",
       "      <td>1</td>\n",
       "      <td>0.0</td>\n",
       "    </tr>\n",
       "    <tr>\n",
       "      <th>1</th>\n",
       "      <td>True</td>\n",
       "      <td>0.0</td>\n",
       "      <td>0.0</td>\n",
       "      <td>3</td>\n",
       "      <td>2021-09-29T22:45:00</td>\n",
       "      <td>2021-09-29T22:50:00</td>\n",
       "      <td>1.0</td>\n",
       "      <td>0.0</td>\n",
       "      <td>1723</td>\n",
       "      <td>1.0</td>\n",
       "      <td>1</td>\n",
       "      <td>0.0</td>\n",
       "    </tr>\n",
       "    <tr>\n",
       "      <th>2</th>\n",
       "      <td>True</td>\n",
       "      <td>0.0</td>\n",
       "      <td>0.0</td>\n",
       "      <td>4</td>\n",
       "      <td>2021-09-29T22:45:00</td>\n",
       "      <td>2021-09-29T22:50:00</td>\n",
       "      <td>1.0</td>\n",
       "      <td>0.0</td>\n",
       "      <td>1724</td>\n",
       "      <td>1.0</td>\n",
       "      <td>1</td>\n",
       "      <td>0.0</td>\n",
       "    </tr>\n",
       "    <tr>\n",
       "      <th>3</th>\n",
       "      <td>True</td>\n",
       "      <td>0.0</td>\n",
       "      <td>0.0</td>\n",
       "      <td>5</td>\n",
       "      <td>2021-09-29T22:45:00</td>\n",
       "      <td>2021-09-29T22:50:00</td>\n",
       "      <td>1.0</td>\n",
       "      <td>0.0</td>\n",
       "      <td>1725</td>\n",
       "      <td>1.0</td>\n",
       "      <td>1</td>\n",
       "      <td>0.0</td>\n",
       "    </tr>\n",
       "    <tr>\n",
       "      <th>4</th>\n",
       "      <td>True</td>\n",
       "      <td>0.0</td>\n",
       "      <td>0.0</td>\n",
       "      <td>6</td>\n",
       "      <td>2021-09-29T22:45:00</td>\n",
       "      <td>2021-09-29T22:50:00</td>\n",
       "      <td>1.0</td>\n",
       "      <td>0.0</td>\n",
       "      <td>1726</td>\n",
       "      <td>1.0</td>\n",
       "      <td>1</td>\n",
       "      <td>0.0</td>\n",
       "    </tr>\n",
       "    <tr>\n",
       "      <th>5</th>\n",
       "      <td>True</td>\n",
       "      <td>0.0</td>\n",
       "      <td>0.0</td>\n",
       "      <td>1</td>\n",
       "      <td>2021-09-29T22:45:00</td>\n",
       "      <td>2021-09-29T22:50:00</td>\n",
       "      <td>1.0</td>\n",
       "      <td>0.0</td>\n",
       "      <td>1820</td>\n",
       "      <td>1.0</td>\n",
       "      <td>1</td>\n",
       "      <td>0.0</td>\n",
       "    </tr>\n",
       "  </tbody>\n",
       "</table>\n",
       "</div>"
      ],
      "text/plain": [
       "   is_bid  qmtp  p_bid  meter_id           start_time             end_time  \\\n",
       "0    True   0.0    0.0         2  2021-09-29T22:45:00  2021-09-29T22:50:00   \n",
       "1    True   0.0    0.0         3  2021-09-29T22:45:00  2021-09-29T22:50:00   \n",
       "2    True   0.0    0.0         4  2021-09-29T22:45:00  2021-09-29T22:50:00   \n",
       "3    True   0.0    0.0         5  2021-09-29T22:45:00  2021-09-29T22:50:00   \n",
       "4    True   0.0    0.0         6  2021-09-29T22:45:00  2021-09-29T22:50:00   \n",
       "5    True   0.0    0.0         1  2021-09-29T22:45:00  2021-09-29T22:50:00   \n",
       "\n",
       "   mode_dispatch  q_bid  meter_interval_id  mode_market  rate_id    e  \n",
       "0            1.0    0.0               1722          1.0        1  0.0  \n",
       "1            1.0    0.0               1723          1.0        1  0.0  \n",
       "2            1.0    0.0               1724          1.0        1  0.0  \n",
       "3            1.0    0.0               1725          1.0        1  0.0  \n",
       "4            1.0    0.0               1726          1.0        1  0.0  \n",
       "5            1.0    0.0               1820          1.0        1  0.0  "
      ]
     },
     "execution_count": 4,
     "metadata": {},
     "output_type": "execute_result"
    }
   ],
   "source": [
    "data"
   ]
  },
  {
   "cell_type": "markdown",
   "id": "09f82d7b",
   "metadata": {},
   "source": [
    "## Available resources"
   ]
  },
  {
   "cell_type": "code",
   "execution_count": 5,
   "id": "75fefa09",
   "metadata": {},
   "outputs": [
    {
     "data": {
      "text/plain": [
       "0.0"
      ]
     },
     "execution_count": 5,
     "metadata": {},
     "output_type": "execute_result"
    }
   ],
   "source": [
    "available_resources = data[\"q_bid\"].sum()\n",
    "available_resources"
   ]
  },
  {
   "cell_type": "markdown",
   "id": "696e5af1",
   "metadata": {},
   "source": [
    "## Unavailable resources"
   ]
  },
  {
   "cell_type": "code",
   "execution_count": 6,
   "id": "efbe222d",
   "metadata": {},
   "outputs": [
    {
     "data": {
      "text/plain": [
       "24000.0"
      ]
     },
     "execution_count": 6,
     "metadata": {},
     "output_type": "execute_result"
    }
   ],
   "source": [
    "unavailable_resources = hundred_percent - available_resources\n",
    "unavailable_resources"
   ]
  },
  {
   "cell_type": "markdown",
   "id": "b338e4bf",
   "metadata": {},
   "source": [
    "## Dispatched Resources"
   ]
  },
  {
   "cell_type": "code",
   "execution_count": 7,
   "id": "5907b949",
   "metadata": {},
   "outputs": [
    {
     "data": {
      "text/plain": [
       "0.0"
      ]
     },
     "execution_count": 7,
     "metadata": {},
     "output_type": "execute_result"
    }
   ],
   "source": [
    "price = 0.11\n",
    "cleared_bids = data.loc[data.p_bid <= price]\n",
    "dispatched_resources = cleared_bids[\"q_bid\"].sum()\n",
    "dispatched_resources"
   ]
  },
  {
   "cell_type": "code",
   "execution_count": 8,
   "id": "dbce4d68",
   "metadata": {},
   "outputs": [],
   "source": [
    "# data.groupby(\"start_time\").sum()[\"q_bid\"][-1]"
   ]
  },
  {
   "cell_type": "code",
   "execution_count": 9,
   "id": "b6367dae",
   "metadata": {},
   "outputs": [],
   "source": [
    "# data.groupby(\"start_time\").sum()[\"q_bid\"]"
   ]
  },
  {
   "cell_type": "code",
   "execution_count": 10,
   "id": "d07b20d6",
   "metadata": {},
   "outputs": [],
   "source": [
    "# data.loc[data.start_time == \"2021-09-23T07:34:02\"]"
   ]
  },
  {
   "cell_type": "code",
   "execution_count": 11,
   "id": "21e4296c",
   "metadata": {},
   "outputs": [],
   "source": [
    "# data[\"qmtp\"].sum()"
   ]
  },
  {
   "cell_type": "code",
   "execution_count": 12,
   "id": "2dd8c812",
   "metadata": {},
   "outputs": [],
   "source": [
    "# market_interval = pd.read_csv('data/power_market_intervals.csv', index_col=0, parse_dates=True)\n",
    "# latest_market_interval = market_interval[\"start_time\"].iloc[-1]\n",
    "# latest_market_interval"
   ]
  }
 ],
 "metadata": {
  "kernelspec": {
   "display_name": "Python 3 (ipykernel)",
   "language": "python",
   "name": "python3"
  },
  "language_info": {
   "codemirror_mode": {
    "name": "ipython",
    "version": 3
   },
   "file_extension": ".py",
   "mimetype": "text/x-python",
   "name": "python",
   "nbconvert_exporter": "python",
   "pygments_lexer": "ipython3",
   "version": "3.8.5"
  }
 },
 "nbformat": 4,
 "nbformat_minor": 5
}
