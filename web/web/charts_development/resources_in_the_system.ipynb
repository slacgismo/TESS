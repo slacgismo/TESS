{
 "cells": [
  {
   "cell_type": "code",
   "execution_count": 2,
   "id": "e54d885a",
   "metadata": {},
   "outputs": [],
   "source": [
    "import pandas as pd"
   ]
  },
  {
   "cell_type": "code",
   "execution_count": 22,
   "id": "e9641c1b",
   "metadata": {},
   "outputs": [],
   "source": [
    "data = pd.read_csv('data/meter_intervals.csv', index_col=0, parse_dates=True)\n"
   ]
  },
  {
   "cell_type": "code",
   "execution_count": 33,
   "id": "342bff77",
   "metadata": {},
   "outputs": [],
   "source": [
    "hundred_percent = 24000.0"
   ]
  },
  {
   "cell_type": "code",
   "execution_count": 23,
   "id": "37f84e3d",
   "metadata": {
    "scrolled": true
   },
   "outputs": [
    {
     "data": {
      "text/html": [
       "<div>\n",
       "<style scoped>\n",
       "    .dataframe tbody tr th:only-of-type {\n",
       "        vertical-align: middle;\n",
       "    }\n",
       "\n",
       "    .dataframe tbody tr th {\n",
       "        vertical-align: top;\n",
       "    }\n",
       "\n",
       "    .dataframe thead th {\n",
       "        text-align: right;\n",
       "    }\n",
       "</style>\n",
       "<table border=\"1\" class=\"dataframe\">\n",
       "  <thead>\n",
       "    <tr style=\"text-align: right;\">\n",
       "      <th></th>\n",
       "      <th>mode_market</th>\n",
       "      <th>rate_id</th>\n",
       "      <th>mode_dispatch</th>\n",
       "      <th>q_bid</th>\n",
       "      <th>meter_id</th>\n",
       "      <th>start_time</th>\n",
       "      <th>p_bid</th>\n",
       "      <th>meter_interval_id</th>\n",
       "      <th>is_bid</th>\n",
       "      <th>e</th>\n",
       "      <th>qmtp</th>\n",
       "      <th>end_time</th>\n",
       "    </tr>\n",
       "  </thead>\n",
       "  <tbody>\n",
       "    <tr>\n",
       "      <th>0</th>\n",
       "      <td>0.0</td>\n",
       "      <td>1</td>\n",
       "      <td>0.0</td>\n",
       "      <td>0.95296</td>\n",
       "      <td>1</td>\n",
       "      <td>2021-07-22T11:42:00</td>\n",
       "      <td>0.0</td>\n",
       "      <td>973</td>\n",
       "      <td>True</td>\n",
       "      <td>0.015883</td>\n",
       "      <td>0.95296</td>\n",
       "      <td>2021-07-22T11:43:00</td>\n",
       "    </tr>\n",
       "    <tr>\n",
       "      <th>1</th>\n",
       "      <td>0.0</td>\n",
       "      <td>1</td>\n",
       "      <td>0.0</td>\n",
       "      <td>1.22071</td>\n",
       "      <td>2</td>\n",
       "      <td>2021-07-22T11:42:00</td>\n",
       "      <td>0.0</td>\n",
       "      <td>974</td>\n",
       "      <td>True</td>\n",
       "      <td>0.020345</td>\n",
       "      <td>1.22071</td>\n",
       "      <td>2021-07-22T11:43:00</td>\n",
       "    </tr>\n",
       "    <tr>\n",
       "      <th>2</th>\n",
       "      <td>0.0</td>\n",
       "      <td>1</td>\n",
       "      <td>0.0</td>\n",
       "      <td>1.19146</td>\n",
       "      <td>3</td>\n",
       "      <td>2021-07-22T11:42:00</td>\n",
       "      <td>0.0</td>\n",
       "      <td>975</td>\n",
       "      <td>True</td>\n",
       "      <td>0.019858</td>\n",
       "      <td>1.19146</td>\n",
       "      <td>2021-07-22T11:43:00</td>\n",
       "    </tr>\n",
       "    <tr>\n",
       "      <th>3</th>\n",
       "      <td>0.0</td>\n",
       "      <td>1</td>\n",
       "      <td>0.0</td>\n",
       "      <td>1.11871</td>\n",
       "      <td>4</td>\n",
       "      <td>2021-07-22T11:42:00</td>\n",
       "      <td>0.0</td>\n",
       "      <td>976</td>\n",
       "      <td>True</td>\n",
       "      <td>0.018645</td>\n",
       "      <td>1.11871</td>\n",
       "      <td>2021-07-22T11:43:00</td>\n",
       "    </tr>\n",
       "    <tr>\n",
       "      <th>4</th>\n",
       "      <td>0.0</td>\n",
       "      <td>1</td>\n",
       "      <td>0.0</td>\n",
       "      <td>1.33565</td>\n",
       "      <td>5</td>\n",
       "      <td>2021-07-22T11:42:00</td>\n",
       "      <td>0.0</td>\n",
       "      <td>977</td>\n",
       "      <td>True</td>\n",
       "      <td>0.022261</td>\n",
       "      <td>1.33565</td>\n",
       "      <td>2021-07-22T11:43:00</td>\n",
       "    </tr>\n",
       "    <tr>\n",
       "      <th>5</th>\n",
       "      <td>0.0</td>\n",
       "      <td>1</td>\n",
       "      <td>0.0</td>\n",
       "      <td>1.25144</td>\n",
       "      <td>6</td>\n",
       "      <td>2021-07-22T11:42:00</td>\n",
       "      <td>0.0</td>\n",
       "      <td>978</td>\n",
       "      <td>True</td>\n",
       "      <td>0.020857</td>\n",
       "      <td>1.25144</td>\n",
       "      <td>2021-07-22T11:43:00</td>\n",
       "    </tr>\n",
       "    <tr>\n",
       "      <th>6</th>\n",
       "      <td>0.0</td>\n",
       "      <td>1</td>\n",
       "      <td>0.0</td>\n",
       "      <td>1.23177</td>\n",
       "      <td>2</td>\n",
       "      <td>2021-07-22T11:42:00</td>\n",
       "      <td>0.0</td>\n",
       "      <td>1082</td>\n",
       "      <td>True</td>\n",
       "      <td>0.020529</td>\n",
       "      <td>1.23177</td>\n",
       "      <td>2021-07-22T11:43:00</td>\n",
       "    </tr>\n",
       "    <tr>\n",
       "      <th>7</th>\n",
       "      <td>0.0</td>\n",
       "      <td>1</td>\n",
       "      <td>0.0</td>\n",
       "      <td>1.20225</td>\n",
       "      <td>3</td>\n",
       "      <td>2021-07-22T11:42:00</td>\n",
       "      <td>0.0</td>\n",
       "      <td>1083</td>\n",
       "      <td>True</td>\n",
       "      <td>0.020037</td>\n",
       "      <td>1.20225</td>\n",
       "      <td>2021-07-22T11:43:00</td>\n",
       "    </tr>\n",
       "    <tr>\n",
       "      <th>8</th>\n",
       "      <td>0.0</td>\n",
       "      <td>1</td>\n",
       "      <td>0.0</td>\n",
       "      <td>1.12885</td>\n",
       "      <td>4</td>\n",
       "      <td>2021-07-22T11:42:00</td>\n",
       "      <td>0.0</td>\n",
       "      <td>1084</td>\n",
       "      <td>True</td>\n",
       "      <td>0.018814</td>\n",
       "      <td>1.12885</td>\n",
       "      <td>2021-07-22T11:43:00</td>\n",
       "    </tr>\n",
       "    <tr>\n",
       "      <th>9</th>\n",
       "      <td>0.0</td>\n",
       "      <td>1</td>\n",
       "      <td>0.0</td>\n",
       "      <td>1.34775</td>\n",
       "      <td>5</td>\n",
       "      <td>2021-07-22T11:42:00</td>\n",
       "      <td>0.0</td>\n",
       "      <td>1085</td>\n",
       "      <td>True</td>\n",
       "      <td>0.022462</td>\n",
       "      <td>1.34775</td>\n",
       "      <td>2021-07-22T11:43:00</td>\n",
       "    </tr>\n",
       "    <tr>\n",
       "      <th>10</th>\n",
       "      <td>0.0</td>\n",
       "      <td>1</td>\n",
       "      <td>0.0</td>\n",
       "      <td>1.26278</td>\n",
       "      <td>6</td>\n",
       "      <td>2021-07-22T11:42:00</td>\n",
       "      <td>0.0</td>\n",
       "      <td>1086</td>\n",
       "      <td>True</td>\n",
       "      <td>0.021046</td>\n",
       "      <td>1.26278</td>\n",
       "      <td>2021-07-22T11:43:00</td>\n",
       "    </tr>\n",
       "    <tr>\n",
       "      <th>11</th>\n",
       "      <td>0.0</td>\n",
       "      <td>1</td>\n",
       "      <td>0.0</td>\n",
       "      <td>0.00000</td>\n",
       "      <td>1</td>\n",
       "      <td>2021-07-22T11:42:00</td>\n",
       "      <td>0.0</td>\n",
       "      <td>1397</td>\n",
       "      <td>True</td>\n",
       "      <td>0.000000</td>\n",
       "      <td>0.00000</td>\n",
       "      <td>2021-07-22T11:43:00</td>\n",
       "    </tr>\n",
       "    <tr>\n",
       "      <th>12</th>\n",
       "      <td>0.0</td>\n",
       "      <td>1</td>\n",
       "      <td>0.0</td>\n",
       "      <td>0.00000</td>\n",
       "      <td>1</td>\n",
       "      <td>2021-07-22T11:42:00</td>\n",
       "      <td>0.0</td>\n",
       "      <td>1398</td>\n",
       "      <td>True</td>\n",
       "      <td>0.000000</td>\n",
       "      <td>0.00000</td>\n",
       "      <td>2021-07-22T11:43:00</td>\n",
       "    </tr>\n",
       "    <tr>\n",
       "      <th>13</th>\n",
       "      <td>0.0</td>\n",
       "      <td>1</td>\n",
       "      <td>0.0</td>\n",
       "      <td>0.00000</td>\n",
       "      <td>1</td>\n",
       "      <td>2021-07-22T11:42:00</td>\n",
       "      <td>0.0</td>\n",
       "      <td>1400</td>\n",
       "      <td>True</td>\n",
       "      <td>0.000000</td>\n",
       "      <td>0.00000</td>\n",
       "      <td>2021-07-22T11:43:00</td>\n",
       "    </tr>\n",
       "    <tr>\n",
       "      <th>14</th>\n",
       "      <td>0.0</td>\n",
       "      <td>1</td>\n",
       "      <td>0.0</td>\n",
       "      <td>0.00000</td>\n",
       "      <td>1</td>\n",
       "      <td>2021-07-22T11:42:00</td>\n",
       "      <td>0.0</td>\n",
       "      <td>1536</td>\n",
       "      <td>True</td>\n",
       "      <td>0.000000</td>\n",
       "      <td>0.00000</td>\n",
       "      <td>2021-07-22T11:43:00</td>\n",
       "    </tr>\n",
       "  </tbody>\n",
       "</table>\n",
       "</div>"
      ],
      "text/plain": [
       "    mode_market  rate_id  mode_dispatch    q_bid  meter_id  \\\n",
       "0           0.0        1            0.0  0.95296         1   \n",
       "1           0.0        1            0.0  1.22071         2   \n",
       "2           0.0        1            0.0  1.19146         3   \n",
       "3           0.0        1            0.0  1.11871         4   \n",
       "4           0.0        1            0.0  1.33565         5   \n",
       "5           0.0        1            0.0  1.25144         6   \n",
       "6           0.0        1            0.0  1.23177         2   \n",
       "7           0.0        1            0.0  1.20225         3   \n",
       "8           0.0        1            0.0  1.12885         4   \n",
       "9           0.0        1            0.0  1.34775         5   \n",
       "10          0.0        1            0.0  1.26278         6   \n",
       "11          0.0        1            0.0  0.00000         1   \n",
       "12          0.0        1            0.0  0.00000         1   \n",
       "13          0.0        1            0.0  0.00000         1   \n",
       "14          0.0        1            0.0  0.00000         1   \n",
       "\n",
       "             start_time  p_bid  meter_interval_id  is_bid         e     qmtp  \\\n",
       "0   2021-07-22T11:42:00    0.0                973    True  0.015883  0.95296   \n",
       "1   2021-07-22T11:42:00    0.0                974    True  0.020345  1.22071   \n",
       "2   2021-07-22T11:42:00    0.0                975    True  0.019858  1.19146   \n",
       "3   2021-07-22T11:42:00    0.0                976    True  0.018645  1.11871   \n",
       "4   2021-07-22T11:42:00    0.0                977    True  0.022261  1.33565   \n",
       "5   2021-07-22T11:42:00    0.0                978    True  0.020857  1.25144   \n",
       "6   2021-07-22T11:42:00    0.0               1082    True  0.020529  1.23177   \n",
       "7   2021-07-22T11:42:00    0.0               1083    True  0.020037  1.20225   \n",
       "8   2021-07-22T11:42:00    0.0               1084    True  0.018814  1.12885   \n",
       "9   2021-07-22T11:42:00    0.0               1085    True  0.022462  1.34775   \n",
       "10  2021-07-22T11:42:00    0.0               1086    True  0.021046  1.26278   \n",
       "11  2021-07-22T11:42:00    0.0               1397    True  0.000000  0.00000   \n",
       "12  2021-07-22T11:42:00    0.0               1398    True  0.000000  0.00000   \n",
       "13  2021-07-22T11:42:00    0.0               1400    True  0.000000  0.00000   \n",
       "14  2021-07-22T11:42:00    0.0               1536    True  0.000000  0.00000   \n",
       "\n",
       "               end_time  \n",
       "0   2021-07-22T11:43:00  \n",
       "1   2021-07-22T11:43:00  \n",
       "2   2021-07-22T11:43:00  \n",
       "3   2021-07-22T11:43:00  \n",
       "4   2021-07-22T11:43:00  \n",
       "5   2021-07-22T11:43:00  \n",
       "6   2021-07-22T11:43:00  \n",
       "7   2021-07-22T11:43:00  \n",
       "8   2021-07-22T11:43:00  \n",
       "9   2021-07-22T11:43:00  \n",
       "10  2021-07-22T11:43:00  \n",
       "11  2021-07-22T11:43:00  \n",
       "12  2021-07-22T11:43:00  \n",
       "13  2021-07-22T11:43:00  \n",
       "14  2021-07-22T11:43:00  "
      ]
     },
     "execution_count": 23,
     "metadata": {},
     "output_type": "execute_result"
    }
   ],
   "source": [
    "data"
   ]
  },
  {
   "cell_type": "markdown",
   "id": "09f82d7b",
   "metadata": {},
   "source": [
    "## Available resources"
   ]
  },
  {
   "cell_type": "code",
   "execution_count": 29,
   "id": "75fefa09",
   "metadata": {},
   "outputs": [
    {
     "data": {
      "text/plain": [
       "13.24433"
      ]
     },
     "execution_count": 29,
     "metadata": {},
     "output_type": "execute_result"
    }
   ],
   "source": [
    "available_resources = data[\"q_bid\"].sum()\n",
    "available_resources"
   ]
  },
  {
   "cell_type": "markdown",
   "id": "696e5af1",
   "metadata": {},
   "source": [
    "## Unavailable resources"
   ]
  },
  {
   "cell_type": "code",
   "execution_count": 35,
   "id": "efbe222d",
   "metadata": {},
   "outputs": [
    {
     "data": {
      "text/plain": [
       "23986.75567"
      ]
     },
     "execution_count": 35,
     "metadata": {},
     "output_type": "execute_result"
    }
   ],
   "source": [
    "unavailable_resources = hundred_percent - available_resources\n",
    "unavailable_resources"
   ]
  },
  {
   "cell_type": "markdown",
   "id": "b338e4bf",
   "metadata": {},
   "source": [
    "## Dispatched Resources"
   ]
  },
  {
   "cell_type": "code",
   "execution_count": 42,
   "id": "5907b949",
   "metadata": {},
   "outputs": [
    {
     "data": {
      "text/plain": [
       "13.24433"
      ]
     },
     "execution_count": 42,
     "metadata": {},
     "output_type": "execute_result"
    }
   ],
   "source": [
    "price = 0.11\n",
    "cleared_bids = data.loc[data.p_bid <= price]\n",
    "dispatched_resources = cleared_bids[\"q_bid\"].sum()\n",
    "dispatched_resources"
   ]
  },
  {
   "cell_type": "code",
   "execution_count": 10,
   "id": "dbce4d68",
   "metadata": {},
   "outputs": [
    {
     "data": {
      "text/plain": [
       "0.0"
      ]
     },
     "execution_count": 10,
     "metadata": {},
     "output_type": "execute_result"
    }
   ],
   "source": [
    "# data.groupby(\"start_time\").sum()[\"q_bid\"][-1]"
   ]
  },
  {
   "cell_type": "code",
   "execution_count": null,
   "id": "b6367dae",
   "metadata": {},
   "outputs": [],
   "source": [
    "# data.groupby(\"start_time\").sum()[\"q_bid\"]"
   ]
  },
  {
   "cell_type": "code",
   "execution_count": null,
   "id": "d07b20d6",
   "metadata": {},
   "outputs": [],
   "source": [
    "# data.loc[data.start_time == \"2021-09-23T07:34:02\"]"
   ]
  },
  {
   "cell_type": "code",
   "execution_count": 7,
   "id": "21e4296c",
   "metadata": {},
   "outputs": [
    {
     "data": {
      "text/plain": [
       "2536.8444600000003"
      ]
     },
     "execution_count": 7,
     "metadata": {},
     "output_type": "execute_result"
    }
   ],
   "source": [
    "# data[\"qmtp\"].sum()"
   ]
  },
  {
   "cell_type": "code",
   "execution_count": 21,
   "id": "2dd8c812",
   "metadata": {},
   "outputs": [
    {
     "data": {
      "text/plain": [
       "'2021-07-22T11:42:00'"
      ]
     },
     "execution_count": 21,
     "metadata": {},
     "output_type": "execute_result"
    }
   ],
   "source": [
    "# market_interval = pd.read_csv('data/power_market_intervals.csv', index_col=0, parse_dates=True)\n",
    "# latest_market_interval = market_interval[\"start_time\"].iloc[-1]\n",
    "# latest_market_interval"
   ]
  }
 ],
 "metadata": {
  "kernelspec": {
   "display_name": "Python 3",
   "language": "python",
   "name": "python3"
  },
  "language_info": {
   "codemirror_mode": {
    "name": "ipython",
    "version": 3
   },
   "file_extension": ".py",
   "mimetype": "text/x-python",
   "name": "python",
   "nbconvert_exporter": "python",
   "pygments_lexer": "ipython3",
   "version": "3.7.6"
  }
 },
 "nbformat": 4,
 "nbformat_minor": 5
}
