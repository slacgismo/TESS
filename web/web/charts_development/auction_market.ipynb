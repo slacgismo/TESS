{
 "cells": [
  {
   "cell_type": "code",
   "execution_count": 38,
   "id": "b7c929d3",
   "metadata": {},
   "outputs": [],
   "source": [
    "import pandas as pd\n",
    "import matplotlib.pyplot as plt\n",
    "import numpy as np"
   ]
  },
  {
   "cell_type": "code",
   "execution_count": 39,
   "id": "bda1d175",
   "metadata": {},
   "outputs": [
    {
     "data": {
      "text/html": [
       "<div>\n",
       "<style scoped>\n",
       "    .dataframe tbody tr th:only-of-type {\n",
       "        vertical-align: middle;\n",
       "    }\n",
       "\n",
       "    .dataframe tbody tr th {\n",
       "        vertical-align: top;\n",
       "    }\n",
       "\n",
       "    .dataframe thead th {\n",
       "        text-align: right;\n",
       "    }\n",
       "</style>\n",
       "<table border=\"1\" class=\"dataframe\">\n",
       "  <thead>\n",
       "    <tr style=\"text-align: right;\">\n",
       "      <th></th>\n",
       "      <th>bid_id</th>\n",
       "      <th>start_time</th>\n",
       "      <th>is_supply</th>\n",
       "      <th>created_at</th>\n",
       "      <th>market_id</th>\n",
       "      <th>end_time</th>\n",
       "      <th>p_bid</th>\n",
       "      <th>comment</th>\n",
       "      <th>updated_at</th>\n",
       "      <th>q_bid</th>\n",
       "    </tr>\n",
       "  </thead>\n",
       "  <tbody>\n",
       "    <tr>\n",
       "      <th>0</th>\n",
       "      <td>1</td>\n",
       "      <td>2020-01-01T00:05:00</td>\n",
       "      <td>True</td>\n",
       "      <td>2021-09-10T08:39:29</td>\n",
       "      <td>1</td>\n",
       "      <td>2020-01-01T00:05:23</td>\n",
       "      <td>0.000000</td>\n",
       "      <td>asdfasdf</td>\n",
       "      <td>2021-09-10T08:39:29</td>\n",
       "      <td>0.000</td>\n",
       "    </tr>\n",
       "    <tr>\n",
       "      <th>1</th>\n",
       "      <td>2</td>\n",
       "      <td>2021-07-22T10:29:45</td>\n",
       "      <td>True</td>\n",
       "      <td>2021-09-10T08:43:36</td>\n",
       "      <td>1</td>\n",
       "      <td>2021-07-22T10:30:00</td>\n",
       "      <td>0.366818</td>\n",
       "      <td>none</td>\n",
       "      <td>2021-09-10T08:43:36</td>\n",
       "      <td>1050.500</td>\n",
       "    </tr>\n",
       "    <tr>\n",
       "      <th>2</th>\n",
       "      <td>3</td>\n",
       "      <td>2021-07-22T10:30:15</td>\n",
       "      <td>True</td>\n",
       "      <td>2021-09-10T08:43:36</td>\n",
       "      <td>1</td>\n",
       "      <td>2021-07-22T10:30:30</td>\n",
       "      <td>0.800043</td>\n",
       "      <td>none</td>\n",
       "      <td>2021-09-10T08:43:36</td>\n",
       "      <td>980.862</td>\n",
       "    </tr>\n",
       "    <tr>\n",
       "      <th>3</th>\n",
       "      <td>4</td>\n",
       "      <td>2021-07-22T10:30:45</td>\n",
       "      <td>True</td>\n",
       "      <td>2021-09-10T08:43:36</td>\n",
       "      <td>1</td>\n",
       "      <td>2021-07-22T10:31:00</td>\n",
       "      <td>0.955528</td>\n",
       "      <td>none</td>\n",
       "      <td>2021-09-10T08:43:36</td>\n",
       "      <td>1016.640</td>\n",
       "    </tr>\n",
       "    <tr>\n",
       "      <th>4</th>\n",
       "      <td>5</td>\n",
       "      <td>2016-12-18T00:00:00</td>\n",
       "      <td>True</td>\n",
       "      <td>2021-09-10T08:43:36</td>\n",
       "      <td>1</td>\n",
       "      <td>2016-12-18T00:00:15</td>\n",
       "      <td>0.347834</td>\n",
       "      <td>none</td>\n",
       "      <td>2021-09-10T08:43:36</td>\n",
       "      <td>1033.460</td>\n",
       "    </tr>\n",
       "    <tr>\n",
       "      <th>...</th>\n",
       "      <td>...</td>\n",
       "      <td>...</td>\n",
       "      <td>...</td>\n",
       "      <td>...</td>\n",
       "      <td>...</td>\n",
       "      <td>...</td>\n",
       "      <td>...</td>\n",
       "      <td>...</td>\n",
       "      <td>...</td>\n",
       "      <td>...</td>\n",
       "    </tr>\n",
       "    <tr>\n",
       "      <th>253</th>\n",
       "      <td>254</td>\n",
       "      <td>2021-07-22T11:56:00</td>\n",
       "      <td>True</td>\n",
       "      <td>2021-09-10T08:43:37</td>\n",
       "      <td>1</td>\n",
       "      <td>2021-07-22T11:57:00</td>\n",
       "      <td>0.108176</td>\n",
       "      <td>none</td>\n",
       "      <td>2021-09-10T08:43:37</td>\n",
       "      <td>1073.490</td>\n",
       "    </tr>\n",
       "    <tr>\n",
       "      <th>254</th>\n",
       "      <td>255</td>\n",
       "      <td>2021-07-22T11:57:00</td>\n",
       "      <td>True</td>\n",
       "      <td>2021-09-10T08:43:37</td>\n",
       "      <td>1</td>\n",
       "      <td>2021-07-22T11:58:00</td>\n",
       "      <td>0.760907</td>\n",
       "      <td>none</td>\n",
       "      <td>2021-09-10T08:43:37</td>\n",
       "      <td>1002.850</td>\n",
       "    </tr>\n",
       "    <tr>\n",
       "      <th>255</th>\n",
       "      <td>256</td>\n",
       "      <td>2021-07-22T11:58:00</td>\n",
       "      <td>True</td>\n",
       "      <td>2021-09-10T08:43:37</td>\n",
       "      <td>1</td>\n",
       "      <td>2021-07-22T11:59:00</td>\n",
       "      <td>0.348286</td>\n",
       "      <td>none</td>\n",
       "      <td>2021-09-10T08:43:37</td>\n",
       "      <td>976.456</td>\n",
       "    </tr>\n",
       "    <tr>\n",
       "      <th>256</th>\n",
       "      <td>257</td>\n",
       "      <td>2021-07-22T11:59:00</td>\n",
       "      <td>True</td>\n",
       "      <td>2021-09-10T08:43:37</td>\n",
       "      <td>1</td>\n",
       "      <td>2021-07-22T12:00:00</td>\n",
       "      <td>0.091651</td>\n",
       "      <td>none</td>\n",
       "      <td>2021-09-10T08:43:37</td>\n",
       "      <td>922.943</td>\n",
       "    </tr>\n",
       "    <tr>\n",
       "      <th>257</th>\n",
       "      <td>258</td>\n",
       "      <td>2021-07-22T12:00:00</td>\n",
       "      <td>True</td>\n",
       "      <td>2021-09-10T08:43:37</td>\n",
       "      <td>1</td>\n",
       "      <td>2021-07-22T12:01:00</td>\n",
       "      <td>0.108002</td>\n",
       "      <td>none</td>\n",
       "      <td>2021-09-10T08:43:37</td>\n",
       "      <td>1082.740</td>\n",
       "    </tr>\n",
       "  </tbody>\n",
       "</table>\n",
       "<p>258 rows × 10 columns</p>\n",
       "</div>"
      ],
      "text/plain": [
       "     bid_id           start_time  is_supply           created_at  market_id  \\\n",
       "0         1  2020-01-01T00:05:00       True  2021-09-10T08:39:29          1   \n",
       "1         2  2021-07-22T10:29:45       True  2021-09-10T08:43:36          1   \n",
       "2         3  2021-07-22T10:30:15       True  2021-09-10T08:43:36          1   \n",
       "3         4  2021-07-22T10:30:45       True  2021-09-10T08:43:36          1   \n",
       "4         5  2016-12-18T00:00:00       True  2021-09-10T08:43:36          1   \n",
       "..      ...                  ...        ...                  ...        ...   \n",
       "253     254  2021-07-22T11:56:00       True  2021-09-10T08:43:37          1   \n",
       "254     255  2021-07-22T11:57:00       True  2021-09-10T08:43:37          1   \n",
       "255     256  2021-07-22T11:58:00       True  2021-09-10T08:43:37          1   \n",
       "256     257  2021-07-22T11:59:00       True  2021-09-10T08:43:37          1   \n",
       "257     258  2021-07-22T12:00:00       True  2021-09-10T08:43:37          1   \n",
       "\n",
       "                end_time     p_bid   comment           updated_at     q_bid  \n",
       "0    2020-01-01T00:05:23  0.000000  asdfasdf  2021-09-10T08:39:29     0.000  \n",
       "1    2021-07-22T10:30:00  0.366818      none  2021-09-10T08:43:36  1050.500  \n",
       "2    2021-07-22T10:30:30  0.800043      none  2021-09-10T08:43:36   980.862  \n",
       "3    2021-07-22T10:31:00  0.955528      none  2021-09-10T08:43:36  1016.640  \n",
       "4    2016-12-18T00:00:15  0.347834      none  2021-09-10T08:43:36  1033.460  \n",
       "..                   ...       ...       ...                  ...       ...  \n",
       "253  2021-07-22T11:57:00  0.108176      none  2021-09-10T08:43:37  1073.490  \n",
       "254  2021-07-22T11:58:00  0.760907      none  2021-09-10T08:43:37  1002.850  \n",
       "255  2021-07-22T11:59:00  0.348286      none  2021-09-10T08:43:37   976.456  \n",
       "256  2021-07-22T12:00:00  0.091651      none  2021-09-10T08:43:37   922.943  \n",
       "257  2021-07-22T12:01:00  0.108002      none  2021-09-10T08:43:37  1082.740  \n",
       "\n",
       "[258 rows x 10 columns]"
      ]
     },
     "execution_count": 39,
     "metadata": {},
     "output_type": "execute_result"
    }
   ],
   "source": [
    "meter_intervals = pd.read_csv('data/meter_intervals.csv', index_col=0, parse_dates=True)\n",
    "hce_bids = pd.read_csv('data/hce_bids.csv', index_col=0, parse_dates=True)\n",
    "hce_bids"
   ]
  },
  {
   "cell_type": "code",
   "execution_count": 40,
   "id": "72ecd7a2",
   "metadata": {},
   "outputs": [
    {
     "data": {
      "text/plain": [
       "0          0.000\n",
       "1          0.000\n",
       "2          0.000\n",
       "3          0.000\n",
       "4          0.000\n",
       "          ...   \n",
       "1946    1073.490\n",
       "1947    1002.850\n",
       "1948     976.456\n",
       "1949     922.943\n",
       "1950    1082.740\n",
       "Name: q_bid, Length: 1951, dtype: float64"
      ]
     },
     "execution_count": 40,
     "metadata": {},
     "output_type": "execute_result"
    }
   ],
   "source": [
    "data = hce_bids.merge(meter_intervals, on=\"q_bid\", how=\"left\")\n",
    "data[\"q_bid\"]"
   ]
  },
  {
   "cell_type": "code",
   "execution_count": 41,
   "id": "2f41ddc4",
   "metadata": {},
   "outputs": [
    {
     "data": {
      "image/png": "[encoded data removed]",
      "text/plain": [
       "<Figure size 432x288 with 1 Axes>"
      ]
     },
     "metadata": {
      "needs_background": "light"
     },
     "output_type": "display_data"
    }
   ],
   "source": [
    "labels = data[\"q_bid\"]\n",
    "# hce_bids\n",
    "one = data[\"p_bid_x\"]\n",
    "# meter_intervals\n",
    "two = data[\"p_bid_y\"]\n",
    "\n",
    "plt.plot(x, y)\n",
    "plt.show()"
   ]
  },
  {
   "cell_type": "code",
   "execution_count": 43,
   "id": "67adae4c",
   "metadata": {},
   "outputs": [
    {
     "data": {
      "text/plain": [
       "0          0.000\n",
       "1          0.000\n",
       "2          0.000\n",
       "3          0.000\n",
       "4          0.000\n",
       "          ...   \n",
       "1946    1073.490\n",
       "1947    1002.850\n",
       "1948     976.456\n",
       "1949     922.943\n",
       "1950    1082.740\n",
       "Name: q_bid, Length: 1951, dtype: float64"
      ]
     },
     "execution_count": 43,
     "metadata": {},
     "output_type": "execute_result"
    }
   ],
   "source": [
    "labels"
   ]
  },
  {
   "cell_type": "code",
   "execution_count": 44,
   "id": "375d9731",
   "metadata": {},
   "outputs": [
    {
     "data": {
      "text/plain": [
       "0       0.000000\n",
       "1       0.000000\n",
       "2       0.000000\n",
       "3       0.000000\n",
       "4       0.000000\n",
       "          ...   \n",
       "1946    0.108176\n",
       "1947    0.760907\n",
       "1948    0.348286\n",
       "1949    0.091651\n",
       "1950    0.108002\n",
       "Name: p_bid_x, Length: 1951, dtype: float64"
      ]
     },
     "execution_count": 44,
     "metadata": {},
     "output_type": "execute_result"
    }
   ],
   "source": [
    "one"
   ]
  },
  {
   "cell_type": "code",
   "execution_count": 45,
   "id": "cfe52107",
   "metadata": {},
   "outputs": [
    {
     "data": {
      "text/plain": [
       "0       0.0\n",
       "1       0.0\n",
       "2       0.0\n",
       "3       0.0\n",
       "4       0.0\n",
       "       ... \n",
       "1946    NaN\n",
       "1947    NaN\n",
       "1948    NaN\n",
       "1949    NaN\n",
       "1950    NaN\n",
       "Name: p_bid_y, Length: 1951, dtype: float64"
      ]
     },
     "execution_count": 45,
     "metadata": {},
     "output_type": "execute_result"
    }
   ],
   "source": [
    "two"
   ]
  }
 ],
 "metadata": {
  "kernelspec": {
   "display_name": "Python 3",
   "language": "python",
   "name": "python3"
  },
  "language_info": {
   "codemirror_mode": {
    "name": "ipython",
    "version": 3
   },
   "file_extension": ".py",
   "mimetype": "text/x-python",
   "name": "python",
   "nbconvert_exporter": "python",
   "pygments_lexer": "ipython3",
   "version": "3.7.6"
  }
 },
 "nbformat": 4,
 "nbformat_minor": 5
}
