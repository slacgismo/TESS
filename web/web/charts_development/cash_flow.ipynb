{
 "cells": [
  {
   "cell_type": "code",
   "execution_count": 2,
   "id": "accd916c",
   "metadata": {},
   "outputs": [],
   "source": [
    "import pandas as pd"
   ]
  },
  {
   "cell_type": "code",
   "execution_count": 31,
   "id": "fa356e43",
   "metadata": {},
   "outputs": [],
   "source": [
    "hce_bids = pd.read_csv('data/cash_flow_hce_bid.csv', index_col=0, parse_dates=True)"
   ]
  },
  {
   "cell_type": "code",
   "execution_count": 32,
   "id": "886c02af",
   "metadata": {},
   "outputs": [],
   "source": [
    "transformer_interval = pd.read_csv('data/cash_flow_transformer_interval.csv', index_col=0, parse_dates=True)"
   ]
  },
  {
   "cell_type": "code",
   "execution_count": 33,
   "id": "02202ded",
   "metadata": {},
   "outputs": [],
   "source": [
    "meter_interval = pd.read_csv('data/cash_flow_meter_interval.csv', index_col=0, parse_dates=True)"
   ]
  },
  {
   "cell_type": "code",
   "execution_count": 34,
   "id": "aa369875",
   "metadata": {},
   "outputs": [],
   "source": [
    "market_interval = pd.read_csv('data/cash_flow_market_interval.csv', index_col=0, parse_dates=True).iloc[:1]"
   ]
  },
  {
   "cell_type": "code",
   "execution_count": 35,
   "id": "3bb4d577",
   "metadata": {},
   "outputs": [
    {
     "data": {
      "text/plain": [
       "['2021-07-22T11:42:00']"
      ]
     },
     "execution_count": 35,
     "metadata": {},
     "output_type": "execute_result"
    }
   ],
   "source": [
    "start_times = list(market_interval[\"start_time\"])\n",
    "start_times"
   ]
  },
  {
   "cell_type": "code",
   "execution_count": 36,
   "id": "d4ac0d25",
   "metadata": {},
   "outputs": [
    {
     "data": {
      "text/plain": [
       "[0.11]"
      ]
     },
     "execution_count": 36,
     "metadata": {},
     "output_type": "execute_result"
    }
   ],
   "source": [
    "p_clear = list(market_interval[\"p_clear\"])\n",
    "p_clear"
   ]
  },
  {
   "cell_type": "markdown",
   "id": "d77b8463",
   "metadata": {},
   "source": [
    "### Sum all ((qmtp in TABLE meter_intervals for which p_bid <= p_clear))*p_clear"
   ]
  },
  {
   "cell_type": "code",
   "execution_count": 21,
   "id": "d5406b73",
   "metadata": {},
   "outputs": [],
   "source": [
    "# meter_interval.loc[(meter_ineterval.p_bid <= )]\n",
    "merge_meter_market_interval = meter_interval.merge(market_interval, on=\"start_time\", how=\"left\")"
   ]
  },
  {
   "cell_type": "code",
   "execution_count": 39,
   "id": "930854ad",
   "metadata": {},
   "outputs": [],
   "source": [
    "x = merge_meter_market_interval.loc[merge_meter_market_interval.p_bid <= merge_meter_market_interval.p_clear]"
   ]
  },
  {
   "cell_type": "code",
   "execution_count": 28,
   "id": "35b90906",
   "metadata": {},
   "outputs": [
    {
     "name": "stderr",
     "output_type": "stream",
     "text": [
      "/Users/derins/opt/anaconda3/lib/python3.7/site-packages/ipykernel_launcher.py:1: SettingWithCopyWarning: \n",
      "A value is trying to be set on a copy of a slice from a DataFrame.\n",
      "Try using .loc[row_indexer,col_indexer] = value instead\n",
      "\n",
      "See the caveats in the documentation: https://pandas.pydata.org/pandas-docs/stable/user_guide/indexing.html#returning-a-view-versus-a-copy\n",
      "  \"\"\"Entry point for launching an IPython kernel.\n"
     ]
    }
   ],
   "source": [
    "x[\"payments_to_pv_owner\"] = x[\"p_clear\"]*x[\"q_bid\"]"
   ]
  },
  {
   "cell_type": "code",
   "execution_count": 30,
   "id": "2abd4bc6",
   "metadata": {},
   "outputs": [
    {
     "data": {
      "text/plain": [
       "start_time\n",
       "2021-07-22T11:42:00    1.456876\n",
       "Name: payments_to_pv_owner, dtype: float64"
      ]
     },
     "execution_count": 30,
     "metadata": {},
     "output_type": "execute_result"
    }
   ],
   "source": [
    "payments_to_pv_owners = x.groupby(\"start_time\")[\"payments_to_pv_owner\"].sum()\n",
    "payments_to_pv_owners"
   ]
  },
  {
   "cell_type": "markdown",
   "id": "2cfe3d40",
   "metadata": {},
   "source": [
    "###  (q from TABLE transformer_intervals at start_time == t) * (p_bid in TABLE hce_bids at start_time == t)\n",
    "### Use p_bid for which is_supply = 1 if q >= 0\n",
    "### Use p_bid for which is_supply = 0 if q < 0\n"
   ]
  },
  {
   "cell_type": "code",
   "execution_count": 40,
   "id": "11683a3c",
   "metadata": {},
   "outputs": [],
   "source": [
    "merge_transformer_market_interval = transformer_interval.merge(market_interval, on=\"start_time\", how=\"left\")"
   ]
  },
  {
   "cell_type": "code",
   "execution_count": null,
   "id": "3eebfd9e",
   "metadata": {},
   "outputs": [],
   "source": []
  }
 ],
 "metadata": {
  "kernelspec": {
   "display_name": "Python 3",
   "language": "python",
   "name": "python3"
  },
  "language_info": {
   "codemirror_mode": {
    "name": "ipython",
    "version": 3
   },
   "file_extension": ".py",
   "mimetype": "text/x-python",
   "name": "python",
   "nbconvert_exporter": "python",
   "pygments_lexer": "ipython3",
   "version": "3.7.6"
  }
 },
 "nbformat": 4,
 "nbformat_minor": 5
}
