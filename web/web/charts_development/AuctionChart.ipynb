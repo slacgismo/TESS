{
 "cells": [
  {
   "cell_type": "code",
   "execution_count": 1,
   "id": "bfcaac87",
   "metadata": {},
   "outputs": [],
   "source": [
    "import pandas as pd\n",
    "import numpy as np\n",
    "import matplotlib.pyplot as plt"
   ]
  },
  {
   "cell_type": "markdown",
   "id": "6bf8d411",
   "metadata": {},
   "source": [
    "### Relevant tables"
   ]
  },
  {
   "cell_type": "code",
   "execution_count": 2,
   "id": "861d1aba",
   "metadata": {},
   "outputs": [
    {
     "data": {
      "text/html": [
       "<div>\n",
       "<style scoped>\n",
       "    .dataframe tbody tr th:only-of-type {\n",
       "        vertical-align: middle;\n",
       "    }\n",
       "\n",
       "    .dataframe tbody tr th {\n",
       "        vertical-align: top;\n",
       "    }\n",
       "\n",
       "    .dataframe thead th {\n",
       "        text-align: right;\n",
       "    }\n",
       "</style>\n",
       "<table border=\"1\" class=\"dataframe\">\n",
       "  <thead>\n",
       "    <tr style=\"text-align: right;\">\n",
       "      <th></th>\n",
       "      <th>meter_interval_id</th>\n",
       "      <th>meter_id</th>\n",
       "      <th>rate_id</th>\n",
       "      <th>start_time</th>\n",
       "      <th>end_time</th>\n",
       "      <th>e</th>\n",
       "      <th>qmtp</th>\n",
       "      <th>p_bid</th>\n",
       "      <th>q_bid</th>\n",
       "      <th>is_bid</th>\n",
       "      <th>mode_dispatch</th>\n",
       "      <th>mode_market</th>\n",
       "    </tr>\n",
       "  </thead>\n",
       "  <tbody>\n",
       "    <tr>\n",
       "      <th>1721</th>\n",
       "      <td>1722</td>\n",
       "      <td>2</td>\n",
       "      <td>1</td>\n",
       "      <td>2021-09-23 00:00:00</td>\n",
       "      <td>2021-09-23 00:05:00</td>\n",
       "      <td>0.0</td>\n",
       "      <td>0.0</td>\n",
       "      <td>0</td>\n",
       "      <td>0.0</td>\n",
       "      <td>1</td>\n",
       "      <td>1</td>\n",
       "      <td>1</td>\n",
       "    </tr>\n",
       "    <tr>\n",
       "      <th>1722</th>\n",
       "      <td>1723</td>\n",
       "      <td>3</td>\n",
       "      <td>1</td>\n",
       "      <td>2021-09-23 00:00:00</td>\n",
       "      <td>2021-09-23 00:05:00</td>\n",
       "      <td>0.0</td>\n",
       "      <td>0.0</td>\n",
       "      <td>0</td>\n",
       "      <td>0.0</td>\n",
       "      <td>1</td>\n",
       "      <td>1</td>\n",
       "      <td>1</td>\n",
       "    </tr>\n",
       "    <tr>\n",
       "      <th>1723</th>\n",
       "      <td>1724</td>\n",
       "      <td>4</td>\n",
       "      <td>1</td>\n",
       "      <td>2021-09-23 00:00:00</td>\n",
       "      <td>2021-09-23 00:05:00</td>\n",
       "      <td>0.0</td>\n",
       "      <td>0.0</td>\n",
       "      <td>0</td>\n",
       "      <td>0.0</td>\n",
       "      <td>1</td>\n",
       "      <td>1</td>\n",
       "      <td>1</td>\n",
       "    </tr>\n",
       "    <tr>\n",
       "      <th>1724</th>\n",
       "      <td>1725</td>\n",
       "      <td>5</td>\n",
       "      <td>1</td>\n",
       "      <td>2021-09-23 00:00:00</td>\n",
       "      <td>2021-09-23 00:05:00</td>\n",
       "      <td>0.0</td>\n",
       "      <td>0.0</td>\n",
       "      <td>0</td>\n",
       "      <td>0.0</td>\n",
       "      <td>1</td>\n",
       "      <td>1</td>\n",
       "      <td>1</td>\n",
       "    </tr>\n",
       "    <tr>\n",
       "      <th>1725</th>\n",
       "      <td>1726</td>\n",
       "      <td>6</td>\n",
       "      <td>1</td>\n",
       "      <td>2021-09-23 00:00:00</td>\n",
       "      <td>2021-09-23 00:05:00</td>\n",
       "      <td>0.0</td>\n",
       "      <td>0.0</td>\n",
       "      <td>0</td>\n",
       "      <td>0.0</td>\n",
       "      <td>1</td>\n",
       "      <td>1</td>\n",
       "      <td>1</td>\n",
       "    </tr>\n",
       "  </tbody>\n",
       "</table>\n",
       "</div>"
      ],
      "text/plain": [
       "      meter_interval_id  meter_id  rate_id           start_time  \\\n",
       "1721               1722         2        1  2021-09-23 00:00:00   \n",
       "1722               1723         3        1  2021-09-23 00:00:00   \n",
       "1723               1724         4        1  2021-09-23 00:00:00   \n",
       "1724               1725         5        1  2021-09-23 00:00:00   \n",
       "1725               1726         6        1  2021-09-23 00:00:00   \n",
       "\n",
       "                 end_time    e  qmtp  p_bid  q_bid  is_bid  mode_dispatch  \\\n",
       "1721  2021-09-23 00:05:00  0.0   0.0      0    0.0       1              1   \n",
       "1722  2021-09-23 00:05:00  0.0   0.0      0    0.0       1              1   \n",
       "1723  2021-09-23 00:05:00  0.0   0.0      0    0.0       1              1   \n",
       "1724  2021-09-23 00:05:00  0.0   0.0      0    0.0       1              1   \n",
       "1725  2021-09-23 00:05:00  0.0   0.0      0    0.0       1              1   \n",
       "\n",
       "      mode_market  \n",
       "1721            1  \n",
       "1722            1  \n",
       "1723            1  \n",
       "1724            1  \n",
       "1725            1  "
      ]
     },
     "execution_count": 2,
     "metadata": {},
     "output_type": "execute_result"
    }
   ],
   "source": [
    "path = '210929_tess_5min_24h/'\n",
    "df_markets = pd.read_csv(path + 'markets.csv') # PV bids\n",
    "df_bids = pd.read_csv(path + 'meter_intervals.csv') # PV bids\n",
    "df_hce_bids = pd.read_csv(path + 'hce_bids.csv') # HCE bids\n",
    "df_bids.tail()"
   ]
  },
  {
   "cell_type": "markdown",
   "id": "3a06ee10",
   "metadata": {},
   "source": [
    "### Parameters of visualization"
   ]
  },
  {
   "cell_type": "code",
   "execution_count": 3,
   "id": "9d37c16f",
   "metadata": {},
   "outputs": [],
   "source": [
    "dt_sim_time = '2021-09-22 12:00:00' # or latest: df_bids['start_time'].iloc[-1]"
   ]
  },
  {
   "cell_type": "markdown",
   "id": "103b62c0",
   "metadata": {},
   "source": [
    "### Compile all bids into one table (HCE + customers)"
   ]
  },
  {
   "cell_type": "code",
   "execution_count": 4,
   "id": "700261bb",
   "metadata": {},
   "outputs": [
    {
     "data": {
      "text/html": [
       "<div>\n",
       "<style scoped>\n",
       "    .dataframe tbody tr th:only-of-type {\n",
       "        vertical-align: middle;\n",
       "    }\n",
       "\n",
       "    .dataframe tbody tr th {\n",
       "        vertical-align: top;\n",
       "    }\n",
       "\n",
       "    .dataframe thead th {\n",
       "        text-align: right;\n",
       "    }\n",
       "</style>\n",
       "<table border=\"1\" class=\"dataframe\">\n",
       "  <thead>\n",
       "    <tr style=\"text-align: right;\">\n",
       "      <th></th>\n",
       "      <th>p_bid</th>\n",
       "      <th>q_bid</th>\n",
       "      <th>is_supply</th>\n",
       "      <th>type</th>\n",
       "    </tr>\n",
       "  </thead>\n",
       "  <tbody>\n",
       "    <tr>\n",
       "      <th>432</th>\n",
       "      <td>0.529365</td>\n",
       "      <td>489.93000</td>\n",
       "      <td>0</td>\n",
       "      <td>export</td>\n",
       "    </tr>\n",
       "    <tr>\n",
       "      <th>433</th>\n",
       "      <td>0.539365</td>\n",
       "      <td>979.85900</td>\n",
       "      <td>1</td>\n",
       "      <td>import</td>\n",
       "    </tr>\n",
       "    <tr>\n",
       "      <th>434</th>\n",
       "      <td>100.000000</td>\n",
       "      <td>9.64519</td>\n",
       "      <td>0</td>\n",
       "      <td>unresp_load</td>\n",
       "    </tr>\n",
       "  </tbody>\n",
       "</table>\n",
       "</div>"
      ],
      "text/plain": [
       "          p_bid      q_bid  is_supply         type\n",
       "432    0.529365  489.93000          0       export\n",
       "433    0.539365  979.85900          1       import\n",
       "434  100.000000    9.64519          0  unresp_load"
      ]
     },
     "execution_count": 4,
     "metadata": {},
     "output_type": "execute_result"
    }
   ],
   "source": [
    "# HCE bids\n",
    "df_auction_market = df_hce_bids.loc[df_hce_bids['start_time'] == dt_sim_time][['p_bid','q_bid','is_supply','comment']]\n",
    "df_auction_market.rename(columns={'comment':'type'},inplace=True)\n",
    "df_auction_market"
   ]
  },
  {
   "cell_type": "code",
   "execution_count": 5,
   "id": "b9ab9285",
   "metadata": {},
   "outputs": [
    {
     "data": {
      "text/html": [
       "<div>\n",
       "<style scoped>\n",
       "    .dataframe tbody tr th:only-of-type {\n",
       "        vertical-align: middle;\n",
       "    }\n",
       "\n",
       "    .dataframe tbody tr th {\n",
       "        vertical-align: top;\n",
       "    }\n",
       "\n",
       "    .dataframe thead th {\n",
       "        text-align: right;\n",
       "    }\n",
       "</style>\n",
       "<table border=\"1\" class=\"dataframe\">\n",
       "  <thead>\n",
       "    <tr style=\"text-align: right;\">\n",
       "      <th></th>\n",
       "      <th>p_bid</th>\n",
       "      <th>q_bid</th>\n",
       "      <th>is_supply</th>\n",
       "      <th>type</th>\n",
       "    </tr>\n",
       "  </thead>\n",
       "  <tbody>\n",
       "    <tr>\n",
       "      <th>864</th>\n",
       "      <td>0</td>\n",
       "      <td>0.408345</td>\n",
       "      <td>1</td>\n",
       "      <td>PV</td>\n",
       "    </tr>\n",
       "    <tr>\n",
       "      <th>865</th>\n",
       "      <td>0</td>\n",
       "      <td>0.523077</td>\n",
       "      <td>1</td>\n",
       "      <td>PV</td>\n",
       "    </tr>\n",
       "    <tr>\n",
       "      <th>866</th>\n",
       "      <td>0</td>\n",
       "      <td>0.510540</td>\n",
       "      <td>1</td>\n",
       "      <td>PV</td>\n",
       "    </tr>\n",
       "    <tr>\n",
       "      <th>867</th>\n",
       "      <td>0</td>\n",
       "      <td>0.479368</td>\n",
       "      <td>1</td>\n",
       "      <td>PV</td>\n",
       "    </tr>\n",
       "    <tr>\n",
       "      <th>868</th>\n",
       "      <td>0</td>\n",
       "      <td>0.572327</td>\n",
       "      <td>1</td>\n",
       "      <td>PV</td>\n",
       "    </tr>\n",
       "    <tr>\n",
       "      <th>869</th>\n",
       "      <td>0</td>\n",
       "      <td>0.536243</td>\n",
       "      <td>1</td>\n",
       "      <td>PV</td>\n",
       "    </tr>\n",
       "  </tbody>\n",
       "</table>\n",
       "</div>"
      ],
      "text/plain": [
       "     p_bid     q_bid  is_supply type\n",
       "864      0  0.408345          1   PV\n",
       "865      0  0.523077          1   PV\n",
       "866      0  0.510540          1   PV\n",
       "867      0  0.479368          1   PV\n",
       "868      0  0.572327          1   PV\n",
       "869      0  0.536243          1   PV"
      ]
     },
     "execution_count": 5,
     "metadata": {},
     "output_type": "execute_result"
    }
   ],
   "source": [
    "# PV bids\n",
    "df_bids = df_bids.loc[df_bids['start_time'] == dt_sim_time][['p_bid','q_bid']]\n",
    "df_bids['is_supply'] = 1 # because it's PV\n",
    "df_bids['type'] = 'PV'\n",
    "df_bids"
   ]
  },
  {
   "cell_type": "code",
   "execution_count": 6,
   "id": "c66a5341",
   "metadata": {},
   "outputs": [
    {
     "data": {
      "text/html": [
       "<div>\n",
       "<style scoped>\n",
       "    .dataframe tbody tr th:only-of-type {\n",
       "        vertical-align: middle;\n",
       "    }\n",
       "\n",
       "    .dataframe tbody tr th {\n",
       "        vertical-align: top;\n",
       "    }\n",
       "\n",
       "    .dataframe thead th {\n",
       "        text-align: right;\n",
       "    }\n",
       "</style>\n",
       "<table border=\"1\" class=\"dataframe\">\n",
       "  <thead>\n",
       "    <tr style=\"text-align: right;\">\n",
       "      <th></th>\n",
       "      <th>p_bid</th>\n",
       "      <th>q_bid</th>\n",
       "      <th>is_supply</th>\n",
       "      <th>type</th>\n",
       "    </tr>\n",
       "  </thead>\n",
       "  <tbody>\n",
       "    <tr>\n",
       "      <th>432</th>\n",
       "      <td>0.529365</td>\n",
       "      <td>489.930000</td>\n",
       "      <td>0</td>\n",
       "      <td>export</td>\n",
       "    </tr>\n",
       "    <tr>\n",
       "      <th>433</th>\n",
       "      <td>0.539365</td>\n",
       "      <td>979.859000</td>\n",
       "      <td>1</td>\n",
       "      <td>import</td>\n",
       "    </tr>\n",
       "    <tr>\n",
       "      <th>434</th>\n",
       "      <td>100.000000</td>\n",
       "      <td>9.645190</td>\n",
       "      <td>0</td>\n",
       "      <td>unresp_load</td>\n",
       "    </tr>\n",
       "    <tr>\n",
       "      <th>864</th>\n",
       "      <td>0.000000</td>\n",
       "      <td>0.408345</td>\n",
       "      <td>1</td>\n",
       "      <td>PV</td>\n",
       "    </tr>\n",
       "    <tr>\n",
       "      <th>865</th>\n",
       "      <td>0.000000</td>\n",
       "      <td>0.523077</td>\n",
       "      <td>1</td>\n",
       "      <td>PV</td>\n",
       "    </tr>\n",
       "    <tr>\n",
       "      <th>866</th>\n",
       "      <td>0.000000</td>\n",
       "      <td>0.510540</td>\n",
       "      <td>1</td>\n",
       "      <td>PV</td>\n",
       "    </tr>\n",
       "    <tr>\n",
       "      <th>867</th>\n",
       "      <td>0.000000</td>\n",
       "      <td>0.479368</td>\n",
       "      <td>1</td>\n",
       "      <td>PV</td>\n",
       "    </tr>\n",
       "    <tr>\n",
       "      <th>868</th>\n",
       "      <td>0.000000</td>\n",
       "      <td>0.572327</td>\n",
       "      <td>1</td>\n",
       "      <td>PV</td>\n",
       "    </tr>\n",
       "    <tr>\n",
       "      <th>869</th>\n",
       "      <td>0.000000</td>\n",
       "      <td>0.536243</td>\n",
       "      <td>1</td>\n",
       "      <td>PV</td>\n",
       "    </tr>\n",
       "  </tbody>\n",
       "</table>\n",
       "</div>"
      ],
      "text/plain": [
       "          p_bid       q_bid  is_supply         type\n",
       "432    0.529365  489.930000          0       export\n",
       "433    0.539365  979.859000          1       import\n",
       "434  100.000000    9.645190          0  unresp_load\n",
       "864    0.000000    0.408345          1           PV\n",
       "865    0.000000    0.523077          1           PV\n",
       "866    0.000000    0.510540          1           PV\n",
       "867    0.000000    0.479368          1           PV\n",
       "868    0.000000    0.572327          1           PV\n",
       "869    0.000000    0.536243          1           PV"
      ]
     },
     "execution_count": 6,
     "metadata": {},
     "output_type": "execute_result"
    }
   ],
   "source": [
    "# Merge\n",
    "df_auction_market = df_auction_market.append(df_bids)\n",
    "df_auction_market"
   ]
  },
  {
   "cell_type": "markdown",
   "id": "9301a5a5",
   "metadata": {},
   "source": [
    "### Assemble demand curve"
   ]
  },
  {
   "cell_type": "code",
   "execution_count": 7,
   "id": "8b22fd61",
   "metadata": {},
   "outputs": [],
   "source": [
    "colors = {'import':'g','unresp_load':'b','PV':'y','export':'r'}"
   ]
  },
  {
   "cell_type": "code",
   "execution_count": 8,
   "id": "6123c9a7",
   "metadata": {
    "scrolled": true
   },
   "outputs": [
    {
     "name": "stderr",
     "output_type": "stream",
     "text": [
      "/usr/local/lib/python3.9/site-packages/pandas/core/indexing.py:670: SettingWithCopyWarning: \n",
      "A value is trying to be set on a copy of a slice from a DataFrame\n",
      "\n",
      "See the caveats in the documentation: https://pandas.pydata.org/pandas-docs/stable/user_guide/indexing.html#returning-a-view-versus-a-copy\n",
      "  iloc._setitem_with_indexer(indexer, value)\n"
     ]
    },
    {
     "data": {
      "text/html": [
       "<div>\n",
       "<style scoped>\n",
       "    .dataframe tbody tr th:only-of-type {\n",
       "        vertical-align: middle;\n",
       "    }\n",
       "\n",
       "    .dataframe tbody tr th {\n",
       "        vertical-align: top;\n",
       "    }\n",
       "\n",
       "    .dataframe thead th {\n",
       "        text-align: right;\n",
       "    }\n",
       "</style>\n",
       "<table border=\"1\" class=\"dataframe\">\n",
       "  <thead>\n",
       "    <tr style=\"text-align: right;\">\n",
       "      <th></th>\n",
       "      <th>type</th>\n",
       "      <th>p_bid</th>\n",
       "      <th>q_bid</th>\n",
       "      <th>x</th>\n",
       "      <th>x_end</th>\n",
       "      <th>color</th>\n",
       "    </tr>\n",
       "  </thead>\n",
       "  <tbody>\n",
       "    <tr>\n",
       "      <th>1</th>\n",
       "      <td>unresp_load</td>\n",
       "      <td>100</td>\n",
       "      <td>9.64519</td>\n",
       "      <td>4.822595</td>\n",
       "      <td>9.64519</td>\n",
       "      <td>b</td>\n",
       "    </tr>\n",
       "    <tr>\n",
       "      <th>0</th>\n",
       "      <td>export</td>\n",
       "      <td>0.529365</td>\n",
       "      <td>489.93</td>\n",
       "      <td>254.610190</td>\n",
       "      <td>499.57519</td>\n",
       "      <td>r</td>\n",
       "    </tr>\n",
       "  </tbody>\n",
       "</table>\n",
       "</div>"
      ],
      "text/plain": [
       "          type     p_bid    q_bid           x      x_end color\n",
       "1  unresp_load       100  9.64519    4.822595    9.64519     b\n",
       "0       export  0.529365   489.93  254.610190  499.57519     r"
      ]
     },
     "execution_count": 8,
     "metadata": {},
     "output_type": "execute_result"
    }
   ],
   "source": [
    "# Filter\n",
    "df_auction_market_demand = df_auction_market.loc[df_auction_market['is_supply'] == 0]\n",
    "demand_curve = df_auction_market_demand.groupby(['type','p_bid']).sum()['q_bid']\n",
    "data = np.vstack((demand_curve.index.get_level_values(0),demand_curve.index.get_level_values(1)))\n",
    "data = np.vstack((data,demand_curve.values))\n",
    "data = data.transpose()\n",
    "df_demand_curve = pd.DataFrame(columns=['type','p_bid','q_bid'],data=data)\n",
    "df_demand_curve.sort_values(by='p_bid',ascending=False,inplace=True)\n",
    "# Calculate positions of bars\n",
    "df_demand_curve['x'] = 0.0\n",
    "df_demand_curve['x_end'] = 0.0\n",
    "df_demand_curve['color'] = ''\n",
    "if len(df_demand_curve) > 0:\n",
    "    df_demand_curve['x'].iloc[0] = df_demand_curve['q_bid'].iloc[0]/2.\n",
    "    df_demand_curve['x_end'].iloc[0] = df_demand_curve['q_bid'].iloc[0]\n",
    "    df_demand_curve['color'].iloc[0] = colors[df_demand_curve['type'].iloc[0]]\n",
    "    for i in range(1,len(df_demand_curve)):\n",
    "        df_demand_curve['x_end'].iloc[i] = df_demand_curve['x_end'].iloc[i-1] + df_demand_curve['q_bid'].iloc[i]\n",
    "        df_demand_curve['x'].iloc[i] = df_demand_curve['x_end'].iloc[i-1] + df_demand_curve['q_bid'].iloc[i]/2\n",
    "        df_demand_curve['color'].iloc[i] = colors[df_demand_curve['type'].iloc[i]]\n",
    "#\n",
    "df_demand_curve"
   ]
  },
  {
   "cell_type": "markdown",
   "id": "c09a1f98",
   "metadata": {},
   "source": [
    "### Assemble supply curve"
   ]
  },
  {
   "cell_type": "code",
   "execution_count": 9,
   "id": "bb031f78",
   "metadata": {},
   "outputs": [
    {
     "name": "stderr",
     "output_type": "stream",
     "text": [
      "/usr/local/lib/python3.9/site-packages/pandas/core/indexing.py:670: SettingWithCopyWarning: \n",
      "A value is trying to be set on a copy of a slice from a DataFrame\n",
      "\n",
      "See the caveats in the documentation: https://pandas.pydata.org/pandas-docs/stable/user_guide/indexing.html#returning-a-view-versus-a-copy\n",
      "  iloc._setitem_with_indexer(indexer, value)\n"
     ]
    },
    {
     "data": {
      "text/html": [
       "<div>\n",
       "<style scoped>\n",
       "    .dataframe tbody tr th:only-of-type {\n",
       "        vertical-align: middle;\n",
       "    }\n",
       "\n",
       "    .dataframe tbody tr th {\n",
       "        vertical-align: top;\n",
       "    }\n",
       "\n",
       "    .dataframe thead th {\n",
       "        text-align: right;\n",
       "    }\n",
       "</style>\n",
       "<table border=\"1\" class=\"dataframe\">\n",
       "  <thead>\n",
       "    <tr style=\"text-align: right;\">\n",
       "      <th></th>\n",
       "      <th>type</th>\n",
       "      <th>p_bid</th>\n",
       "      <th>q_bid</th>\n",
       "      <th>x</th>\n",
       "      <th>x_end</th>\n",
       "      <th>color</th>\n",
       "    </tr>\n",
       "  </thead>\n",
       "  <tbody>\n",
       "    <tr>\n",
       "      <th>0</th>\n",
       "      <td>PV</td>\n",
       "      <td>0</td>\n",
       "      <td>3.0299</td>\n",
       "      <td>1.51495</td>\n",
       "      <td>3.0299</td>\n",
       "      <td>y</td>\n",
       "    </tr>\n",
       "    <tr>\n",
       "      <th>1</th>\n",
       "      <td>import</td>\n",
       "      <td>0.539365</td>\n",
       "      <td>979.859</td>\n",
       "      <td>492.95940</td>\n",
       "      <td>982.8889</td>\n",
       "      <td>g</td>\n",
       "    </tr>\n",
       "  </tbody>\n",
       "</table>\n",
       "</div>"
      ],
      "text/plain": [
       "     type     p_bid    q_bid          x     x_end color\n",
       "0      PV         0   3.0299    1.51495    3.0299     y\n",
       "1  import  0.539365  979.859  492.95940  982.8889     g"
      ]
     },
     "execution_count": 9,
     "metadata": {},
     "output_type": "execute_result"
    }
   ],
   "source": [
    "# Filter\n",
    "df_auction_market_supply = df_auction_market.loc[df_auction_market['is_supply'] == 1]\n",
    "supply_curve = df_auction_market_supply.groupby(['type','p_bid']).sum()['q_bid']\n",
    "data = np.vstack((supply_curve.index.get_level_values(0),supply_curve.index.get_level_values(1)))\n",
    "data = np.vstack((data,supply_curve.values))\n",
    "data = data.transpose()\n",
    "df_supply_curve = pd.DataFrame(columns=['type','p_bid','q_bid'],data=data)\n",
    "df_supply_curve.sort_values(by='p_bid',ascending=True,inplace=True)\n",
    "# Calculate positions of bars\n",
    "df_supply_curve['x'] = 0.0\n",
    "df_supply_curve['x_end'] = 0.0\n",
    "df_supply_curve['color'] = ''\n",
    "if len(df_supply_curve) > 0:\n",
    "    df_supply_curve['x'].iloc[0] = df_supply_curve['q_bid'].iloc[0]/2.\n",
    "    df_supply_curve['x_end'].iloc[0] = df_supply_curve['q_bid'].iloc[0]\n",
    "    df_supply_curve['color'].iloc[0] = colors[df_supply_curve['type'].iloc[0]]\n",
    "    for i in range(1,len(df_supply_curve)):\n",
    "        df_supply_curve['x'].iloc[i] = df_supply_curve['x_end'].iloc[i-1] + df_supply_curve['q_bid'].iloc[i]/2.\n",
    "        df_supply_curve['x_end'].iloc[i] = df_supply_curve['x_end'].iloc[i-1] + df_supply_curve['q_bid'].iloc[i]\n",
    "        df_supply_curve['color'].iloc[i] = colors[df_supply_curve['type'].iloc[i]]\n",
    "#\n",
    "df_supply_curve"
   ]
  },
  {
   "cell_type": "markdown",
   "id": "d0c21252",
   "metadata": {},
   "source": [
    "### Plot"
   ]
  },
  {
   "cell_type": "code",
   "execution_count": 10,
   "id": "a192ad33",
   "metadata": {},
   "outputs": [
    {
     "data": {
      "text/plain": [
       "<matplotlib.legend.Legend at 0x1400e1850>"
      ]
     },
     "execution_count": 10,
     "metadata": {},
     "output_type": "execute_result"
    },
    {
     "data": {
      "image/png": "[encoded data removed]",
      "text/plain": [
       "<Figure size 864x576 with 1 Axes>"
      ]
     },
     "metadata": {
      "needs_background": "light"
     },
     "output_type": "display_data"
    }
   ],
   "source": [
    "plt.figure(figsize=(12,8))\n",
    "# Supply\n",
    "plt.bar(df_supply_curve['x'],df_supply_curve['p_bid'],width=df_supply_curve['q_bid'],edgecolor=['y','r'],color=df_supply_curve['color'],alpha=0.4)\n",
    "# Demand\n",
    "plt.bar(df_demand_curve['x'],df_demand_curve['p_bid'],width=df_demand_curve['q_bid'],edgecolor=['g','b'],color=df_demand_curve['color'],alpha=0.4)\n",
    "# Zoom in\n",
    "zoom = 0.1\n",
    "ending_positions = list(df_demand_curve['x_end']) + list(df_supply_curve['x_end'])\n",
    "ending_positions.sort(reverse=True)\n",
    "plt.xlim(0,zoom*ending_positions[0]+(1.-zoom)*ending_positions[1])\n",
    "price_positions = list(df_demand_curve['p_bid']) + list(df_supply_curve['p_bid'])\n",
    "price_positions.sort(reverse=True)\n",
    "plt.ylim(0,zoom*price_positions[0]+(1.-zoom)*price_positions[1])\n",
    "# Legend     \n",
    "labels = list(colors.keys())\n",
    "handles = [plt.Rectangle((0,0),1,1, alpha=0.4, color=colors[label]) for label in labels]\n",
    "plt.legend(handles, labels)"
   ]
  },
  {
   "cell_type": "code",
   "execution_count": 11,
   "id": "617b855b",
   "metadata": {},
   "outputs": [
    {
     "data": {
      "text/html": [
       "<div>\n",
       "<style scoped>\n",
       "    .dataframe tbody tr th:only-of-type {\n",
       "        vertical-align: middle;\n",
       "    }\n",
       "\n",
       "    .dataframe tbody tr th {\n",
       "        vertical-align: top;\n",
       "    }\n",
       "\n",
       "    .dataframe thead th {\n",
       "        text-align: right;\n",
       "    }\n",
       "</style>\n",
       "<table border=\"1\" class=\"dataframe\">\n",
       "  <thead>\n",
       "    <tr style=\"text-align: right;\">\n",
       "      <th></th>\n",
       "      <th>type</th>\n",
       "      <th>p_bid</th>\n",
       "      <th>q_bid</th>\n",
       "      <th>x</th>\n",
       "      <th>x_end</th>\n",
       "      <th>color</th>\n",
       "    </tr>\n",
       "  </thead>\n",
       "  <tbody>\n",
       "    <tr>\n",
       "      <th>0</th>\n",
       "      <td>PV</td>\n",
       "      <td>0</td>\n",
       "      <td>3.0299</td>\n",
       "      <td>1.51495</td>\n",
       "      <td>3.0299</td>\n",
       "      <td>y</td>\n",
       "    </tr>\n",
       "    <tr>\n",
       "      <th>1</th>\n",
       "      <td>import</td>\n",
       "      <td>0.539365</td>\n",
       "      <td>979.859</td>\n",
       "      <td>492.95940</td>\n",
       "      <td>982.8889</td>\n",
       "      <td>g</td>\n",
       "    </tr>\n",
       "  </tbody>\n",
       "</table>\n",
       "</div>"
      ],
      "text/plain": [
       "     type     p_bid    q_bid          x     x_end color\n",
       "0      PV         0   3.0299    1.51495    3.0299     y\n",
       "1  import  0.539365  979.859  492.95940  982.8889     g"
      ]
     },
     "execution_count": 11,
     "metadata": {},
     "output_type": "execute_result"
    }
   ],
   "source": [
    "df_supply_curve"
   ]
  },
  {
   "cell_type": "code",
   "execution_count": 12,
   "id": "0bbf6f27",
   "metadata": {},
   "outputs": [
    {
     "data": {
      "text/html": [
       "<div>\n",
       "<style scoped>\n",
       "    .dataframe tbody tr th:only-of-type {\n",
       "        vertical-align: middle;\n",
       "    }\n",
       "\n",
       "    .dataframe tbody tr th {\n",
       "        vertical-align: top;\n",
       "    }\n",
       "\n",
       "    .dataframe thead th {\n",
       "        text-align: right;\n",
       "    }\n",
       "</style>\n",
       "<table border=\"1\" class=\"dataframe\">\n",
       "  <thead>\n",
       "    <tr style=\"text-align: right;\">\n",
       "      <th></th>\n",
       "      <th>type</th>\n",
       "      <th>p_bid</th>\n",
       "      <th>q_bid</th>\n",
       "      <th>x</th>\n",
       "      <th>x_end</th>\n",
       "      <th>color</th>\n",
       "    </tr>\n",
       "  </thead>\n",
       "  <tbody>\n",
       "    <tr>\n",
       "      <th>1</th>\n",
       "      <td>unresp_load</td>\n",
       "      <td>100</td>\n",
       "      <td>9.64519</td>\n",
       "      <td>4.822595</td>\n",
       "      <td>9.64519</td>\n",
       "      <td>b</td>\n",
       "    </tr>\n",
       "    <tr>\n",
       "      <th>0</th>\n",
       "      <td>export</td>\n",
       "      <td>0.529365</td>\n",
       "      <td>489.93</td>\n",
       "      <td>254.610190</td>\n",
       "      <td>499.57519</td>\n",
       "      <td>r</td>\n",
       "    </tr>\n",
       "  </tbody>\n",
       "</table>\n",
       "</div>"
      ],
      "text/plain": [
       "          type     p_bid    q_bid           x      x_end color\n",
       "1  unresp_load       100  9.64519    4.822595    9.64519     b\n",
       "0       export  0.529365   489.93  254.610190  499.57519     r"
      ]
     },
     "execution_count": 12,
     "metadata": {},
     "output_type": "execute_result"
    }
   ],
   "source": [
    "df_demand_curve"
   ]
  },
  {
   "cell_type": "code",
   "execution_count": 19,
   "id": "01d49e10",
   "metadata": {},
   "outputs": [
    {
     "data": {
      "text/plain": [
       "[0.0, 0.0, 0.539365]"
      ]
     },
     "execution_count": 19,
     "metadata": {},
     "output_type": "execute_result"
    }
   ],
   "source": [
    "sp=[df_supply_curve.p_bid[0]]\n",
    "sp.extend(list(df_supply_curve.p_bid))\n",
    "sp"
   ]
  },
  {
   "cell_type": "code",
   "execution_count": 21,
   "id": "b14ae611",
   "metadata": {},
   "outputs": [
    {
     "data": {
      "text/plain": [
       "[3.0298999999999996, 982.8888999999999, 982.8888999999999]"
      ]
     },
     "execution_count": 21,
     "metadata": {},
     "output_type": "execute_result"
    }
   ],
   "source": [
    "sq=list(df_supply_curve.x_end)\n",
    "sq.append(sq[-1])\n",
    "sq"
   ]
  },
  {
   "cell_type": "code",
   "execution_count": 37,
   "id": "836db838",
   "metadata": {},
   "outputs": [
    {
     "ename": "ImportError",
     "evalue": "cannot import name 'StepPatch' from 'matplotlib.patches' (/usr/local/lib/python3.9/site-packages/matplotlib/patches.py)",
     "output_type": "error",
     "traceback": [
      "\u001b[0;31m---------------------------------------------------------------------------\u001b[0m",
      "\u001b[0;31mImportError\u001b[0m                               Traceback (most recent call last)",
      "\u001b[0;32m/var/folders/gt/sdcc44nx4mzcl8sfb1hfxjf1zb5njh/T/ipykernel_15878/1803293121.py\u001b[0m in \u001b[0;36m<module>\u001b[0;34m\u001b[0m\n\u001b[0;32m----> 1\u001b[0;31m \u001b[0;32mfrom\u001b[0m \u001b[0mmatplotlib\u001b[0m\u001b[0;34m.\u001b[0m\u001b[0mpatches\u001b[0m \u001b[0;32mimport\u001b[0m \u001b[0mStepPatch\u001b[0m\u001b[0;34m\u001b[0m\u001b[0;34m\u001b[0m\u001b[0m\n\u001b[0m\u001b[1;32m      2\u001b[0m \u001b[0mfig\u001b[0m\u001b[0;34m,\u001b[0m\u001b[0max\u001b[0m \u001b[0;34m=\u001b[0m \u001b[0mplt\u001b[0m\u001b[0;34m.\u001b[0m\u001b[0msubplots\u001b[0m\u001b[0;34m(\u001b[0m\u001b[0;36m111\u001b[0m\u001b[0;34m)\u001b[0m\u001b[0;34m\u001b[0m\u001b[0;34m\u001b[0m\u001b[0m\n\u001b[1;32m      3\u001b[0m \u001b[0max\u001b[0m\u001b[0;34m[\u001b[0m\u001b[0;36m0\u001b[0m\u001b[0;34m]\u001b[0m\u001b[0;34m.\u001b[0m\u001b[0mstairs\u001b[0m\u001b[0;34m(\u001b[0m\u001b[0msq\u001b[0m\u001b[0;34m,\u001b[0m\u001b[0msp\u001b[0m\u001b[0;34m)\u001b[0m\u001b[0;34m\u001b[0m\u001b[0;34m\u001b[0m\u001b[0m\n",
      "\u001b[0;31mImportError\u001b[0m: cannot import name 'StepPatch' from 'matplotlib.patches' (/usr/local/lib/python3.9/site-packages/matplotlib/patches.py)"
     ]
    }
   ],
   "source": [
    "from matplotlib.patches import StepPatch\n",
    "fig,ax = plt.subplots(111)\n",
    "ax[0].stairs(sq,sp)"
   ]
  },
  {
   "cell_type": "code",
   "execution_count": null,
   "id": "1477caa7",
   "metadata": {},
   "outputs": [],
   "source": []
  }
 ],
 "metadata": {
  "kernelspec": {
   "display_name": "Python 3 (ipykernel)",
   "language": "python",
   "name": "python3"
  },
  "language_info": {
   "codemirror_mode": {
    "name": "ipython",
    "version": 3
   },
   "file_extension": ".py",
   "mimetype": "text/x-python",
   "name": "python",
   "nbconvert_exporter": "python",
   "pygments_lexer": "ipython3",
   "version": "3.9.6"
  }
 },
 "nbformat": 4,
 "nbformat_minor": 5
}
